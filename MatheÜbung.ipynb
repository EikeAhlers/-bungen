{
 "cells": [
  {
   "cell_type": "code",
   "execution_count": 2,
   "metadata": {},
   "outputs": [
    {
     "name": "stderr",
     "output_type": "stream",
     "text": [
      "Installing package into 'C:/Users/eikek/OneDrive/Dokumente/R/win-library/4.0'\n",
      "(as 'lib' is unspecified)\n",
      "\n",
      "Warning message:\n",
      "\"unable to access index for repository https://cran.r-project.org/src/contrib:\n",
      "  kann URL 'https://cran.r-project.org/src/contrib/PACKAGES' nicht öffnen\"\n",
      "Warning message:\n",
      "\"package 'htest' is not available for this version of R\n",
      "\n",
      "A version of this package for your version of R might be available elsewhere,\n",
      "see the ideas at\n",
      "https://cran.r-project.org/doc/manuals/r-patched/R-admin.html#Installing-packages\"\n",
      "Warning message:\n",
      "\"unable to access index for repository https://cran.r-project.org/bin/windows/contrib/4.0:\n",
      "  kann URL 'https://cran.r-project.org/bin/windows/contrib/4.0/PACKAGES' nicht öffnen\"\n"
     ]
    },
    {
     "ename": "ERROR",
     "evalue": "Error in !install.packages(\"htest\"): ungültiger Argumenttyp\n",
     "output_type": "error",
     "traceback": [
      "Error in !install.packages(\"htest\"): ungültiger Argumenttyp\nTraceback:\n"
     ]
    }
   ],
   "source": [
    "library(AlgDesign)\n",
    "library(tidyverse)"
   ]
  },
  {
   "cell_type": "code",
   "execution_count": null,
   "metadata": {},
   "outputs": [],
   "source": []
  }
 ],
 "metadata": {
  "kernelspec": {
   "display_name": "R",
   "language": "R",
   "name": "ir"
  },
  "language_info": {
   "codemirror_mode": "r",
   "file_extension": ".r",
   "mimetype": "text/x-r-source",
   "name": "R",
   "pygments_lexer": "r",
   "version": "4.0.3"
  }
 },
 "nbformat": 4,
 "nbformat_minor": 4
}
